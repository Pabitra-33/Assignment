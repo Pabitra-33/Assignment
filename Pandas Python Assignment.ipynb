{
 "cells": [
  {
   "cell_type": "code",
   "execution_count": 1,
   "id": "204f90f6",
   "metadata": {},
   "outputs": [
    {
     "name": "stdout",
     "output_type": "stream",
     "text": [
      "   Emp.ID  Emp.Name       City Speciality               Email ID \n",
      "0       1   Krishna    Dwarika      Flute    radheradhe@gmail.com\n",
      "1       2     Radha    Barsana       Love  radhekrishna@gmail.com\n",
      "2       3    Balram  Brindaban   Strength                     NaN\n",
      "3       4     Meera     Jamuna        NaN        kmeera@gmail.com\n",
      "4       5   Yoshoda        NaN       Care   yoshodarani@gmail.com\n",
      "5       6  Nandraja     Gokula     Advice                     NaN\n",
      "6       7  Brishvan    Barsana        NaN      brishban@gmail.com\n",
      "7       8   Kirtida        NaN     Loving      kirtidab@gmail.com\n",
      "8       9      Ayan   Jbarsana        NaN                     NaN\n",
      "9      10      Kuna        NaN     Loving        kunakr@gmail.com\n"
     ]
    }
   ],
   "source": [
    "import pandas as pd \n",
    "df = pd.read_csv(\"Employee Data.csv\")\n",
    "print(df)"
   ]
  },
  {
   "cell_type": "code",
   "execution_count": 2,
   "id": "5a481a80",
   "metadata": {},
   "outputs": [
    {
     "name": "stdout",
     "output_type": "stream",
     "text": [
      "   Emp.ID Emp.Name       City Speciality               Email ID \n",
      "0       1  Krishna    Dwarika      Flute    radheradhe@gmail.com\n",
      "1       2    Radha    Barsana       Love  radhekrishna@gmail.com\n",
      "2       3   Balram  Brindaban   Strength                     NaN\n",
      "3       4    Meera     Jamuna        NaN        kmeera@gmail.com\n",
      "4       5  Yoshoda        NaN       Care   yoshodarani@gmail.com\n"
     ]
    }
   ],
   "source": [
    "import pandas as pd \n",
    "df = pd.read_csv(\"Employee Data.csv\")\n",
    "print(df.head())"
   ]
  },
  {
   "cell_type": "code",
   "execution_count": 3,
   "id": "204d9d48",
   "metadata": {},
   "outputs": [
    {
     "name": "stdout",
     "output_type": "stream",
     "text": [
      "   Emp.ID  Emp.Name      City Speciality           Email ID \n",
      "5       6  Nandraja    Gokula     Advice                 NaN\n",
      "6       7  Brishvan   Barsana        NaN  brishban@gmail.com\n",
      "7       8   Kirtida       NaN     Loving  kirtidab@gmail.com\n",
      "8       9      Ayan  Jbarsana        NaN                 NaN\n",
      "9      10      Kuna       NaN     Loving    kunakr@gmail.com\n"
     ]
    }
   ],
   "source": [
    "import pandas as pd \n",
    "df = pd.read_csv(\"Employee Data.csv\")\n",
    "print(df.tail())"
   ]
  },
  {
   "cell_type": "code",
   "execution_count": 4,
   "id": "6ec1c182",
   "metadata": {},
   "outputs": [
    {
     "name": "stdout",
     "output_type": "stream",
     "text": [
      "   Emp.ID  Emp.Name       City Speciality               Email ID \n",
      "0       1   Krishna    Dwarika      Flute    radheradhe@gmail.com\n",
      "1       2     Radha    Barsana       Love  radhekrishna@gmail.com\n",
      "2       3    Balram  Brindaban   Strength                     NaN\n",
      "3       4     Meera     Jamuna        NaN        kmeera@gmail.com\n",
      "4       5   Yoshoda        NaN       Care   yoshodarani@gmail.com\n",
      "5       6  Nandraja     Gokula     Advice                     NaN\n",
      "6       7  Brishvan    Barsana        NaN      brishban@gmail.com\n",
      "7       8   Kirtida        NaN     Loving      kirtidab@gmail.com\n",
      "8       9      Ayan   Jbarsana        NaN                     NaN\n",
      "9      10      Kuna        NaN     Loving        kunakr@gmail.com\n"
     ]
    }
   ],
   "source": [
    "import pandas as pd \n",
    "df = pd.read_csv(\"Employee Data.csv\")\n",
    "print(df.to_string())"
   ]
  },
  {
   "cell_type": "code",
   "execution_count": 5,
   "id": "6dde84c1",
   "metadata": {},
   "outputs": [
    {
     "name": "stdout",
     "output_type": "stream",
     "text": [
      "<class 'pandas.core.frame.DataFrame'>\n",
      "RangeIndex: 10 entries, 0 to 9\n",
      "Data columns (total 5 columns):\n",
      " #   Column      Non-Null Count  Dtype \n",
      "---  ------      --------------  ----- \n",
      " 0   Emp.ID      10 non-null     int64 \n",
      " 1   Emp.Name    10 non-null     object\n",
      " 2   City        7 non-null      object\n",
      " 3   Speciality  7 non-null      object\n",
      " 4   Email ID    7 non-null      object\n",
      "dtypes: int64(1), object(4)\n",
      "memory usage: 528.0+ bytes\n",
      "None\n"
     ]
    }
   ],
   "source": [
    "import pandas as pd \n",
    "df = pd.read_csv(\"Employee Data.csv\")\n",
    "print(df.info())"
   ]
  },
  {
   "cell_type": "code",
   "execution_count": 6,
   "id": "907b9d9b",
   "metadata": {},
   "outputs": [
    {
     "name": "stdout",
     "output_type": "stream",
     "text": [
      "   Emp.ID Emp.Name       City Speciality              Email ID \n",
      "2       3   Balram  Brindaban   Strength                    NaN\n",
      "3       4    Meera     Jamuna        NaN       kmeera@gmail.com\n",
      "4       5  Yoshoda        NaN       Care  yoshodarani@gmail.com\n"
     ]
    }
   ],
   "source": [
    "import pandas as pd \n",
    "df = pd.read_csv(\"Employee Data.csv\")\n",
    "print(df.iloc[2:5])"
   ]
  },
  {
   "cell_type": "code",
   "execution_count": 7,
   "id": "9ea52f3a",
   "metadata": {},
   "outputs": [
    {
     "name": "stdout",
     "output_type": "stream",
     "text": [
      "   Emp.ID  Emp.Name   City  Speciality  Email ID \n",
      "0   False     False  False       False      False\n",
      "1   False     False  False       False      False\n",
      "2   False     False  False       False       True\n",
      "3   False     False  False        True      False\n",
      "4   False     False   True       False      False\n",
      "5   False     False  False       False       True\n",
      "6   False     False  False        True      False\n",
      "7   False     False   True       False      False\n",
      "8   False     False  False        True       True\n",
      "9   False     False   True       False      False\n"
     ]
    }
   ],
   "source": [
    "import pandas as pd \n",
    "df = pd.read_csv(\"Employee Data.csv\")\n",
    "print(df.isnull())"
   ]
  },
  {
   "cell_type": "code",
   "execution_count": 8,
   "id": "6cbf2a43",
   "metadata": {},
   "outputs": [
    {
     "name": "stdout",
     "output_type": "stream",
     "text": [
      "   Emp.ID  Emp.Name   City  Speciality  Email ID \n",
      "0    True      True   True        True       True\n",
      "1    True      True   True        True       True\n",
      "2    True      True   True        True      False\n",
      "3    True      True   True       False       True\n",
      "4    True      True  False        True       True\n",
      "5    True      True   True        True      False\n",
      "6    True      True   True       False       True\n",
      "7    True      True  False        True       True\n",
      "8    True      True   True       False      False\n",
      "9    True      True  False        True       True\n"
     ]
    }
   ],
   "source": [
    "import pandas as pd \n",
    "df = pd.read_csv(\"Employee Data.csv\")\n",
    "print(df.notnull())"
   ]
  },
  {
   "cell_type": "code",
   "execution_count": 11,
   "id": "e4597999",
   "metadata": {},
   "outputs": [
    {
     "name": "stdout",
     "output_type": "stream",
     "text": [
      "   Emp.ID  Emp.Name   City  Speciality  Email ID \n",
      "0   False     False  False       False      False\n",
      "1   False     False  False       False      False\n",
      "2   False     False  False       False       True\n",
      "3   False     False  False        True      False\n",
      "4   False     False   True       False      False\n",
      "5   False     False  False       False       True\n",
      "6   False     False  False        True      False\n",
      "7   False     False   True       False      False\n",
      "8   False     False  False        True       True\n",
      "9   False     False   True       False      False\n"
     ]
    }
   ],
   "source": [
    "import pandas as pd \n",
    "df = pd.read_csv(\"Employee Data.csv\")\n",
    "newdf=df.isnull()\n",
    "print(newdf.to_string())"
   ]
  },
  {
   "cell_type": "code",
   "execution_count": 12,
   "id": "f5e17824",
   "metadata": {},
   "outputs": [
    {
     "name": "stdout",
     "output_type": "stream",
     "text": [
      "   Emp.ID  Emp.Name   City  Speciality  Email ID \n",
      "0    True      True   True        True       True\n",
      "1    True      True   True        True       True\n",
      "2    True      True   True        True      False\n",
      "3    True      True   True       False       True\n",
      "4    True      True  False        True       True\n",
      "5    True      True   True        True      False\n",
      "6    True      True   True       False       True\n",
      "7    True      True  False        True       True\n",
      "8    True      True   True       False      False\n",
      "9    True      True  False        True       True\n"
     ]
    }
   ],
   "source": [
    "import pandas as pd \n",
    "df = pd.read_csv(\"Employee Data.csv\")\n",
    "newdf=df.notnull()\n",
    "print(newdf.to_string())"
   ]
  },
  {
   "cell_type": "code",
   "execution_count": 13,
   "id": "f16b0399",
   "metadata": {},
   "outputs": [
    {
     "name": "stdout",
     "output_type": "stream",
     "text": [
      "   Emp.ID Emp.Name     City Speciality               Email ID \n",
      "0       1  Krishna  Dwarika      Flute    radheradhe@gmail.com\n",
      "1       2    Radha  Barsana       Love  radhekrishna@gmail.com\n"
     ]
    }
   ],
   "source": [
    "import pandas as pd \n",
    "df = pd.read_csv(\"Employee Data.csv\")\n",
    "newdf=df.dropna()\n",
    "print(newdf.to_string())"
   ]
  },
  {
   "cell_type": "code",
   "execution_count": 14,
   "id": "443bd78e",
   "metadata": {},
   "outputs": [
    {
     "name": "stdout",
     "output_type": "stream",
     "text": [
      "   Emp.ID  Emp.Name       City Speciality               Email ID \n",
      "0       1   Krishna    Dwarika      Flute    radheradhe@gmail.com\n",
      "1       2     Radha    Barsana       Love  radhekrishna@gmail.com\n",
      "2       3    Balram  Brindaban   Strength                     NaN\n",
      "3       4     Meera     Jamuna        NaN        kmeera@gmail.com\n",
      "4       5   Yoshoda        NaN       Care   yoshodarani@gmail.com\n",
      "5       6  Nandraja     Gokula     Advice                     NaN\n",
      "6       7  Brishvan    Barsana        NaN      brishban@gmail.com\n",
      "7       8   Kirtida        NaN     Loving      kirtidab@gmail.com\n",
      "8       9      Ayan   Jbarsana        NaN                     NaN\n",
      "9      10      Kuna        NaN     Loving        kunakr@gmail.com\n"
     ]
    }
   ],
   "source": [
    "import pandas as pd \n",
    "df = pd.read_csv(\"Employee Data.csv\")\n",
    "newdf=df.dropna(thresh=3)\n",
    "print(newdf.to_string())"
   ]
  },
  {
   "cell_type": "code",
   "execution_count": 16,
   "id": "2e29d20c",
   "metadata": {},
   "outputs": [
    {
     "name": "stdout",
     "output_type": "stream",
     "text": [
      "   Emp.ID  Emp.Name       City Speciality               Email ID \n",
      "0       1   Krishna    Dwarika      Flute    radheradhe@gmail.com\n",
      "1       2     Radha    Barsana       Love  radhekrishna@gmail.com\n",
      "2       3    Balram  Brindaban   Strength                       0\n",
      "3       4     Meera     Jamuna          0        kmeera@gmail.com\n",
      "4       5   Yoshoda          0       Care   yoshodarani@gmail.com\n",
      "5       6  Nandraja     Gokula     Advice                       0\n",
      "6       7  Brishvan    Barsana          0      brishban@gmail.com\n",
      "7       8   Kirtida          0     Loving      kirtidab@gmail.com\n",
      "8       9      Ayan   Jbarsana          0                       0\n",
      "9      10      Kuna          0     Loving        kunakr@gmail.com\n"
     ]
    }
   ],
   "source": [
    "import pandas as pd \n",
    "df = pd.read_csv(\"Employee Data.csv\")\n",
    "newdf=df.fillna(0)\n",
    "print(newdf)"
   ]
  },
  {
   "cell_type": "code",
   "execution_count": 17,
   "id": "dda23404",
   "metadata": {},
   "outputs": [
    {
     "name": "stdout",
     "output_type": "stream",
     "text": [
      "   Emp.ID  Emp.Name       City Speciality               Email ID \n",
      "0       1   Krishna    Dwarika      Flute    radheradhe@gmail.com\n",
      "1       2     Radha    Barsana       Love  radhekrishna@gmail.com\n",
      "2       3    Balram  Brindaban   Strength                     NaN\n",
      "3       4     Meera     Jamuna        NaN        kmeera@gmail.com\n",
      "4       5   Yoshoda          0       Care   yoshodarani@gmail.com\n",
      "5       6  Nandraja     Gokula     Advice                     NaN\n",
      "6       7  Brishvan    Barsana        NaN      brishban@gmail.com\n",
      "7       8   Kirtida          0     Loving      kirtidab@gmail.com\n",
      "8       9      Ayan   Jbarsana        NaN                     NaN\n",
      "9      10      Kuna          0     Loving        kunakr@gmail.com\n"
     ]
    }
   ],
   "source": [
    "import pandas as pd \n",
    "df = pd.read_csv(\"Employee Data.csv\")\n",
    "newdf=df.fillna({'City':0,'Email ID':0})\n",
    "print(newdf)"
   ]
  },
  {
   "cell_type": "code",
   "execution_count": 19,
   "id": "b5bdc236",
   "metadata": {},
   "outputs": [
    {
     "name": "stdout",
     "output_type": "stream",
     "text": [
      "   Emp.ID  Emp.Name       City Speciality               Email ID \n",
      "0       1   Krishna    Dwarika      Flute    radheradhe@gmail.com\n",
      "1       2     Radha    Barsana       Love  radhekrishna@gmail.com\n",
      "2       3    Balram  Brindaban   Strength  radhekrishna@gmail.com\n",
      "3       4     Meera     Jamuna   Strength        kmeera@gmail.com\n",
      "4       5   Yoshoda     Jamuna       Care   yoshodarani@gmail.com\n",
      "5       6  Nandraja     Gokula     Advice   yoshodarani@gmail.com\n",
      "6       7  Brishvan    Barsana     Advice      brishban@gmail.com\n",
      "7       8   Kirtida    Barsana     Loving      kirtidab@gmail.com\n",
      "8       9      Ayan   Jbarsana     Loving      kirtidab@gmail.com\n",
      "9      10      Kuna   Jbarsana     Loving        kunakr@gmail.com\n"
     ]
    }
   ],
   "source": [
    "import pandas as pd \n",
    "df = pd.read_csv(\"Employee Data.csv\")\n",
    "newdf=df.fillna(method='ffill')\n",
    "print(newdf)"
   ]
  },
  {
   "cell_type": "code",
   "execution_count": 20,
   "id": "cc6c1783",
   "metadata": {},
   "outputs": [
    {
     "name": "stdout",
     "output_type": "stream",
     "text": [
      "   Emp.ID  Emp.Name       City Speciality               Email ID \n",
      "0       1   Krishna    Dwarika      Flute    radheradhe@gmail.com\n",
      "1       2     Radha    Barsana       Love  radhekrishna@gmail.com\n",
      "2       3    Balram  Brindaban   Strength        kmeera@gmail.com\n",
      "3       4     Meera     Jamuna       Care        kmeera@gmail.com\n",
      "4       5   Yoshoda     Gokula       Care   yoshodarani@gmail.com\n",
      "5       6  Nandraja     Gokula     Advice      brishban@gmail.com\n",
      "6       7  Brishvan    Barsana     Loving      brishban@gmail.com\n",
      "7       8   Kirtida   Jbarsana     Loving      kirtidab@gmail.com\n",
      "8       9      Ayan   Jbarsana     Loving        kunakr@gmail.com\n",
      "9      10      Kuna        NaN     Loving        kunakr@gmail.com\n"
     ]
    }
   ],
   "source": [
    "import pandas as pd \n",
    "df = pd.read_csv(\"Employee Data.csv\")\n",
    "newdf=df.fillna(method='bfill')\n",
    "print(newdf)"
   ]
  },
  {
   "cell_type": "code",
   "execution_count": 21,
   "id": "b5cf8576",
   "metadata": {},
   "outputs": [
    {
     "name": "stdout",
     "output_type": "stream",
     "text": [
      "0    False\n",
      "1    False\n",
      "2    False\n",
      "3    False\n",
      "4    False\n",
      "5    False\n",
      "6    False\n",
      "7    False\n",
      "8    False\n",
      "9    False\n"
     ]
    }
   ],
   "source": [
    "import pandas as pd \n",
    "df = pd.read_csv(\"Employee Data.csv\")\n",
    "newdf=(df.duplicated())\n",
    "print(newdf.to_string())"
   ]
  },
  {
   "cell_type": "code",
   "execution_count": 23,
   "id": "331f6f8c",
   "metadata": {},
   "outputs": [
    {
     "name": "stdout",
     "output_type": "stream",
     "text": [
      "   Emp.ID  Emp.Name       City Speciality               Email ID \n",
      "0       1   Krishna    Dwarika      Flute    radheradhe@gmail.com\n",
      "1       2     Radha    Barsana       Love  radhekrishna@gmail.com\n",
      "2       3    Balram  Brindaban   Strength                     NaN\n",
      "3       4     Meera     Jamuna        NaN        kmeera@gmail.com\n",
      "4       5   Yoshoda        NaN       Care   yoshodarani@gmail.com\n",
      "5       6  Nandraja     Gokula     Advice                     NaN\n",
      "6       7  Brishvan    Barsana        NaN      brishban@gmail.com\n",
      "7       8   Kirtida        NaN     Loving      kirtidab@gmail.com\n",
      "8       9      Ayan   Jbarsana        NaN                     NaN\n",
      "9      10      Kuna        NaN     Loving        kunakr@gmail.com\n"
     ]
    }
   ],
   "source": [
    "import pandas as pd \n",
    "df = pd.read_csv(\"Employee Data.csv\")\n",
    "newdf=(df.drop_duplicates())\n",
    "print(newdf.to_string())"
   ]
  },
  {
   "cell_type": "code",
   "execution_count": 25,
   "id": "2d8a0669",
   "metadata": {},
   "outputs": [
    {
     "name": "stdout",
     "output_type": "stream",
     "text": [
      "   Emp.ID  Emp.Name       City Speciality               Email ID \n",
      "0       1   Krishna    Dwarika      Flute    radheradhe@gmail.com\n",
      "1       2     Radha    Barsana       Love  radhekrishna@gmail.com\n",
      "2       3    Balram  Brindaban   Strength                       2\n",
      "3       4     Meera     Jamuna          2        kmeera@gmail.com\n",
      "4       5   Yoshoda          2       Care   yoshodarani@gmail.com\n",
      "5       6  Nandraja     Gokula     Advice                       2\n",
      "6       7  Brishvan    Barsana          2      brishban@gmail.com\n",
      "7       8   Kirtida          2     Loving      kirtidab@gmail.com\n",
      "8       9      Ayan   Jbarsana          2                       2\n",
      "9      10      Kuna          2     Loving        kunakr@gmail.com\n"
     ]
    }
   ],
   "source": [
    "import pandas as pd\n",
    "import numpy as np\n",
    "df = pd.read_csv(\"Employee Data.csv\")\n",
    "newdf=df.replace(np.NaN,2)\n",
    "print(newdf)"
   ]
  },
  {
   "cell_type": "code",
   "execution_count": 2,
   "id": "8761899a",
   "metadata": {},
   "outputs": [
    {
     "name": "stdout",
     "output_type": "stream",
     "text": [
      "   Emp.ID  Emp.Name       City Speciality               Email ID \n",
      "0       1   Krishna    Dwarika      Flute    radheradhe@gmail.com\n",
      "1       2     Radha    Barsana       Love  radhekrishna@gmail.com\n",
      "2       3    Balram  Brindaban   Strength                     NaN\n",
      "3       4     Meera     Jamuna        NaN        kmeera@gmail.com\n",
      "4       5   Yoshoda        NaN       Care   yoshodarani@gmail.com\n",
      "5       6  Nandraja     Gokula     Advice                     NaN\n",
      "6       7  Brishvan    Barsana        NaN      brishban@gmail.com\n",
      "7       8   Kirtida        NaN     Loving      kirtidab@gmail.com\n",
      "8       9      Ayan   Jbarsana        NaN                     NaN\n",
      "9      10    Jatila        NaN     Loving        kunakr@gmail.com\n"
     ]
    }
   ],
   "source": [
    "import pandas as pd\n",
    "import numpy as np\n",
    "df = pd.read_csv(\"Employee Data.csv\")\n",
    "newdf = df.replace('Kuna','Jatila')\n",
    "print(newdf)"
   ]
  },
  {
   "cell_type": "code",
   "execution_count": 1,
   "id": "8d3d2c2c",
   "metadata": {},
   "outputs": [
    {
     "name": "stdout",
     "output_type": "stream",
     "text": [
      "0     1\n",
      "1     2\n",
      "2     3\n",
      "3     4\n",
      "4     5\n",
      "5     6\n",
      "6     7\n",
      "7     8\n",
      "8     9\n",
      "9    10\n",
      "Name: Emp.ID, dtype: int64\n"
     ]
    }
   ],
   "source": [
    "import pandas as pd\n",
    "df = pd.read_csv(\"Employee Data.csv\")\n",
    "newdf1=df['Emp.ID'].mean()\n",
    "newdf2=df['Emp.ID'].fillna(newdf1)\n",
    "print(newdf2)"
   ]
  },
  {
   "cell_type": "code",
   "execution_count": 2,
   "id": "9dc9218a",
   "metadata": {},
   "outputs": [
    {
     "name": "stdout",
     "output_type": "stream",
     "text": [
      "0     1\n",
      "1     2\n",
      "2     3\n",
      "3     4\n",
      "4     5\n",
      "5     6\n",
      "6     7\n",
      "7     8\n",
      "8     9\n",
      "9    10\n",
      "Name: Emp.ID, dtype: int64\n"
     ]
    }
   ],
   "source": [
    "import pandas as pd \n",
    "df=pd.read_csv(\"Employee Data.csv\")\n",
    "newdf1=df['Emp.ID'].median()\n",
    "newdf2=df['Emp.ID'].fillna(newdf1)\n",
    "print(newdf2)"
   ]
  },
  {
   "cell_type": "code",
   "execution_count": 3,
   "id": "339d1d15",
   "metadata": {},
   "outputs": [
    {
     "name": "stdout",
     "output_type": "stream",
     "text": [
      "0     1\n",
      "1     2\n",
      "2     3\n",
      "3     4\n",
      "4     5\n",
      "5     6\n",
      "6     7\n",
      "7     8\n",
      "8     9\n",
      "9    10\n",
      "Name: Emp.ID, dtype: int64\n"
     ]
    }
   ],
   "source": [
    "import pandas as pd \n",
    "df=pd.read_csv(\"Employee Data.csv\")\n",
    "newdf1=df['Emp.ID'].interpolate()\n",
    "newdf2=df['Emp.ID'].fillna(newdf1)\n",
    "print(newdf2)"
   ]
  },
  {
   "cell_type": "code",
   "execution_count": 5,
   "id": "58e7ea48",
   "metadata": {},
   "outputs": [
    {
     "name": "stdout",
     "output_type": "stream",
     "text": [
      "0     1\n",
      "1     2\n",
      "2     3\n",
      "3     4\n",
      "4     5\n",
      "5     6\n",
      "6     7\n",
      "7     8\n",
      "8     9\n",
      "9    10\n",
      "Name: Emp.ID, dtype: int64\n"
     ]
    }
   ],
   "source": [
    "import pandas as pd\n",
    "df=pd.read_csv(\"Employee Data.csv\")\n",
    "newdf1=df['Emp.ID'].max()\n",
    "newdf2=df['Emp.ID'].fillna(newdf1)\n",
    "print(newdf2)"
   ]
  },
  {
   "cell_type": "code",
   "execution_count": 6,
   "id": "b5130151",
   "metadata": {},
   "outputs": [
    {
     "name": "stdout",
     "output_type": "stream",
     "text": [
      "0     1\n",
      "1     2\n",
      "2     3\n",
      "3     4\n",
      "4     5\n",
      "5     6\n",
      "6     7\n",
      "7     8\n",
      "8     9\n",
      "9    10\n",
      "Name: Emp.ID, dtype: int64\n"
     ]
    }
   ],
   "source": [
    "import pandas as pd\n",
    "df=pd.read_csv(\"Employee Data.csv\")\n",
    "newdf1=df['Emp.ID'].min()\n",
    "newdf2=df['Emp.ID'].fillna(newdf1)\n",
    "print(newdf2)"
   ]
  },
  {
   "cell_type": "code",
   "execution_count": 7,
   "id": "5cc30c4a",
   "metadata": {},
   "outputs": [
    {
     "data": {
      "text/html": [
       "<div>\n",
       "<style scoped>\n",
       "    .dataframe tbody tr th:only-of-type {\n",
       "        vertical-align: middle;\n",
       "    }\n",
       "\n",
       "    .dataframe tbody tr th {\n",
       "        vertical-align: top;\n",
       "    }\n",
       "\n",
       "    .dataframe thead th {\n",
       "        text-align: right;\n",
       "    }\n",
       "</style>\n",
       "<table border=\"1\" class=\"dataframe\">\n",
       "  <thead>\n",
       "    <tr style=\"text-align: right;\">\n",
       "      <th></th>\n",
       "      <th>Emp.ID</th>\n",
       "      <th>Emp.Name</th>\n",
       "      <th>City</th>\n",
       "      <th>Speciality</th>\n",
       "      <th>Email ID</th>\n",
       "    </tr>\n",
       "  </thead>\n",
       "  <tbody>\n",
       "    <tr>\n",
       "      <th>6</th>\n",
       "      <td>7</td>\n",
       "      <td>Brishvan</td>\n",
       "      <td>Barsana</td>\n",
       "      <td>NaN</td>\n",
       "      <td>brishban@gmail.com</td>\n",
       "    </tr>\n",
       "    <tr>\n",
       "      <th>7</th>\n",
       "      <td>8</td>\n",
       "      <td>Kirtida</td>\n",
       "      <td>NaN</td>\n",
       "      <td>Loving</td>\n",
       "      <td>kirtidab@gmail.com</td>\n",
       "    </tr>\n",
       "    <tr>\n",
       "      <th>8</th>\n",
       "      <td>9</td>\n",
       "      <td>Ayan</td>\n",
       "      <td>Jbarsana</td>\n",
       "      <td>NaN</td>\n",
       "      <td>NaN</td>\n",
       "    </tr>\n",
       "    <tr>\n",
       "      <th>9</th>\n",
       "      <td>10</td>\n",
       "      <td>Kuna</td>\n",
       "      <td>NaN</td>\n",
       "      <td>Loving</td>\n",
       "      <td>kunakr@gmail.com</td>\n",
       "    </tr>\n",
       "  </tbody>\n",
       "</table>\n",
       "</div>"
      ],
      "text/plain": [
       "   Emp.ID  Emp.Name      City Speciality           Email ID \n",
       "6       7  Brishvan   Barsana        NaN  brishban@gmail.com\n",
       "7       8   Kirtida       NaN     Loving  kirtidab@gmail.com\n",
       "8       9      Ayan  Jbarsana        NaN                 NaN\n",
       "9      10      Kuna       NaN     Loving    kunakr@gmail.com"
      ]
     },
     "execution_count": 7,
     "metadata": {},
     "output_type": "execute_result"
    }
   ],
   "source": [
    "import pandas as pd\n",
    "df=pd.read_csv(\"Employee Data.csv\")\n",
    "df.loc[df['Emp.ID']>6]"
   ]
  },
  {
   "cell_type": "code",
   "execution_count": 8,
   "id": "487ff69d",
   "metadata": {},
   "outputs": [
    {
     "data": {
      "text/html": [
       "<div>\n",
       "<style scoped>\n",
       "    .dataframe tbody tr th:only-of-type {\n",
       "        vertical-align: middle;\n",
       "    }\n",
       "\n",
       "    .dataframe tbody tr th {\n",
       "        vertical-align: top;\n",
       "    }\n",
       "\n",
       "    .dataframe thead th {\n",
       "        text-align: right;\n",
       "    }\n",
       "</style>\n",
       "<table border=\"1\" class=\"dataframe\">\n",
       "  <thead>\n",
       "    <tr style=\"text-align: right;\">\n",
       "      <th></th>\n",
       "      <th>Emp.ID</th>\n",
       "      <th>Emp.Name</th>\n",
       "      <th>City</th>\n",
       "      <th>Speciality</th>\n",
       "      <th>Email ID</th>\n",
       "    </tr>\n",
       "  </thead>\n",
       "  <tbody>\n",
       "    <tr>\n",
       "      <th>0</th>\n",
       "      <td>1</td>\n",
       "      <td>Krishna</td>\n",
       "      <td>Dwarika</td>\n",
       "      <td>Flute</td>\n",
       "      <td>radheradhe@gmail.com</td>\n",
       "    </tr>\n",
       "    <tr>\n",
       "      <th>1</th>\n",
       "      <td>2</td>\n",
       "      <td>Radha</td>\n",
       "      <td>Barsana</td>\n",
       "      <td>Love</td>\n",
       "      <td>radhekrishna@gmail.com</td>\n",
       "    </tr>\n",
       "    <tr>\n",
       "      <th>2</th>\n",
       "      <td>3</td>\n",
       "      <td>Balram</td>\n",
       "      <td>Brindaban</td>\n",
       "      <td>Strength</td>\n",
       "      <td>NaN</td>\n",
       "    </tr>\n",
       "    <tr>\n",
       "      <th>3</th>\n",
       "      <td>4</td>\n",
       "      <td>Meera</td>\n",
       "      <td>Jamuna</td>\n",
       "      <td>NaN</td>\n",
       "      <td>kmeera@gmail.com</td>\n",
       "    </tr>\n",
       "    <tr>\n",
       "      <th>4</th>\n",
       "      <td>5</td>\n",
       "      <td>Yoshoda</td>\n",
       "      <td>NaN</td>\n",
       "      <td>Care</td>\n",
       "      <td>yoshodarani@gmail.com</td>\n",
       "    </tr>\n",
       "  </tbody>\n",
       "</table>\n",
       "</div>"
      ],
      "text/plain": [
       "   Emp.ID Emp.Name       City Speciality               Email ID \n",
       "0       1  Krishna    Dwarika      Flute    radheradhe@gmail.com\n",
       "1       2    Radha    Barsana       Love  radhekrishna@gmail.com\n",
       "2       3   Balram  Brindaban   Strength                     NaN\n",
       "3       4    Meera     Jamuna        NaN        kmeera@gmail.com\n",
       "4       5  Yoshoda        NaN       Care   yoshodarani@gmail.com"
      ]
     },
     "execution_count": 8,
     "metadata": {},
     "output_type": "execute_result"
    }
   ],
   "source": [
    "import pandas as pd \n",
    "df=pd.read_csv(\"Employee Data.csv\")\n",
    "df.loc[df['Emp.ID']<6]"
   ]
  },
  {
   "cell_type": "code",
   "execution_count": 10,
   "id": "96bf1096",
   "metadata": {},
   "outputs": [
    {
     "data": {
      "text/html": [
       "<div>\n",
       "<style scoped>\n",
       "    .dataframe tbody tr th:only-of-type {\n",
       "        vertical-align: middle;\n",
       "    }\n",
       "\n",
       "    .dataframe tbody tr th {\n",
       "        vertical-align: top;\n",
       "    }\n",
       "\n",
       "    .dataframe thead th {\n",
       "        text-align: right;\n",
       "    }\n",
       "</style>\n",
       "<table border=\"1\" class=\"dataframe\">\n",
       "  <thead>\n",
       "    <tr style=\"text-align: right;\">\n",
       "      <th></th>\n",
       "      <th>Emp.ID</th>\n",
       "      <th>Emp.Name</th>\n",
       "      <th>City</th>\n",
       "      <th>Speciality</th>\n",
       "      <th>Email ID</th>\n",
       "    </tr>\n",
       "  </thead>\n",
       "  <tbody>\n",
       "    <tr>\n",
       "      <th>0</th>\n",
       "      <td>1</td>\n",
       "      <td>Krishna</td>\n",
       "      <td>Dwarika</td>\n",
       "      <td>Flute</td>\n",
       "      <td>radheradhe@gmail.com</td>\n",
       "    </tr>\n",
       "    <tr>\n",
       "      <th>1</th>\n",
       "      <td>2</td>\n",
       "      <td>Radha</td>\n",
       "      <td>Barsana</td>\n",
       "      <td>Love</td>\n",
       "      <td>radhekrishna@gmail.com</td>\n",
       "    </tr>\n",
       "    <tr>\n",
       "      <th>2</th>\n",
       "      <td>3</td>\n",
       "      <td>Balram</td>\n",
       "      <td>Brindaban</td>\n",
       "      <td>Strength</td>\n",
       "      <td>NaN</td>\n",
       "    </tr>\n",
       "    <tr>\n",
       "      <th>3</th>\n",
       "      <td>4</td>\n",
       "      <td>Meera</td>\n",
       "      <td>Jamuna</td>\n",
       "      <td>NaN</td>\n",
       "      <td>kmeera@gmail.com</td>\n",
       "    </tr>\n",
       "    <tr>\n",
       "      <th>4</th>\n",
       "      <td>5</td>\n",
       "      <td>Yoshoda</td>\n",
       "      <td>NaN</td>\n",
       "      <td>Care</td>\n",
       "      <td>yoshodarani@gmail.com</td>\n",
       "    </tr>\n",
       "    <tr>\n",
       "      <th>6</th>\n",
       "      <td>7</td>\n",
       "      <td>Brishvan</td>\n",
       "      <td>Barsana</td>\n",
       "      <td>NaN</td>\n",
       "      <td>brishban@gmail.com</td>\n",
       "    </tr>\n",
       "    <tr>\n",
       "      <th>7</th>\n",
       "      <td>8</td>\n",
       "      <td>Kirtida</td>\n",
       "      <td>NaN</td>\n",
       "      <td>Loving</td>\n",
       "      <td>kirtidab@gmail.com</td>\n",
       "    </tr>\n",
       "    <tr>\n",
       "      <th>8</th>\n",
       "      <td>9</td>\n",
       "      <td>Ayan</td>\n",
       "      <td>Jbarsana</td>\n",
       "      <td>NaN</td>\n",
       "      <td>NaN</td>\n",
       "    </tr>\n",
       "    <tr>\n",
       "      <th>9</th>\n",
       "      <td>10</td>\n",
       "      <td>Kuna</td>\n",
       "      <td>NaN</td>\n",
       "      <td>Loving</td>\n",
       "      <td>kunakr@gmail.com</td>\n",
       "    </tr>\n",
       "  </tbody>\n",
       "</table>\n",
       "</div>"
      ],
      "text/plain": [
       "   Emp.ID  Emp.Name       City Speciality               Email ID \n",
       "0       1   Krishna    Dwarika      Flute    radheradhe@gmail.com\n",
       "1       2     Radha    Barsana       Love  radhekrishna@gmail.com\n",
       "2       3    Balram  Brindaban   Strength                     NaN\n",
       "3       4     Meera     Jamuna        NaN        kmeera@gmail.com\n",
       "4       5   Yoshoda        NaN       Care   yoshodarani@gmail.com\n",
       "6       7  Brishvan    Barsana        NaN      brishban@gmail.com\n",
       "7       8   Kirtida        NaN     Loving      kirtidab@gmail.com\n",
       "8       9      Ayan   Jbarsana        NaN                     NaN\n",
       "9      10      Kuna        NaN     Loving        kunakr@gmail.com"
      ]
     },
     "execution_count": 10,
     "metadata": {},
     "output_type": "execute_result"
    }
   ],
   "source": [
    "import pandas as pd\n",
    "df=pd.read_csv(\"Employee Data.csv\")\n",
    "df.loc[(df['Emp.ID']>6) | (df['Emp.ID']<6)]"
   ]
  }
 ],
 "metadata": {
  "kernelspec": {
   "display_name": "Python 3 (ipykernel)",
   "language": "python",
   "name": "python3"
  },
  "language_info": {
   "codemirror_mode": {
    "name": "ipython",
    "version": 3
   },
   "file_extension": ".py",
   "mimetype": "text/x-python",
   "name": "python",
   "nbconvert_exporter": "python",
   "pygments_lexer": "ipython3",
   "version": "3.9.13"
  }
 },
 "nbformat": 4,
 "nbformat_minor": 5
}
