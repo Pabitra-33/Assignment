{
 "cells": [
  {
   "cell_type": "code",
   "execution_count": 1,
   "id": "deea8ecd",
   "metadata": {},
   "outputs": [
    {
     "name": "stdout",
     "output_type": "stream",
     "text": [
      "[1, 3, ['R', 'K'], 9]\n"
     ]
    }
   ],
   "source": [
    "#1. Writing a program to creating a nested list.\n",
    "\n",
    "#creating list\n",
    "list =[3,9,6,'Radhakrishna']\n",
    "#creating nested-list\n",
    "list =[1,3,['R','K'],9]\n",
    "print(list)"
   ]
  },
  {
   "cell_type": "code",
   "execution_count": 2,
   "id": "3e0b6ba6",
   "metadata": {},
   "outputs": [
    {
     "name": "stdout",
     "output_type": "stream",
     "text": [
      "[1, 3, ['R', 'K'], 9, '2024']\n"
     ]
    }
   ],
   "source": [
    "#2. Writing a program to append an element to a list. \n",
    "list.append('2024')\n",
    "print(list)"
   ]
  },
  {
   "cell_type": "code",
   "execution_count": 3,
   "id": "8d3c19a3",
   "metadata": {},
   "outputs": [
    {
     "name": "stdout",
     "output_type": "stream",
     "text": [
      "['R', 'K']\n"
     ]
    }
   ],
   "source": [
    "#appending element to specific index no\n",
    "list =[1, 3, ['R', 'K'], 9, '2024']\n",
    "print(list[2])"
   ]
  },
  {
   "cell_type": "code",
   "execution_count": 13,
   "id": "521a79be",
   "metadata": {},
   "outputs": [
    {
     "name": "stdout",
     "output_type": "stream",
     "text": [
      "[3]\n"
     ]
    }
   ],
   "source": [
    "list =[1, 3, ['R','K'], 9, '2024']\n",
    "print(list[1:2])"
   ]
  },
  {
   "cell_type": "code",
   "execution_count": 14,
   "id": "d0150f57",
   "metadata": {},
   "outputs": [
    {
     "name": "stdout",
     "output_type": "stream",
     "text": [
      "{'Name': 'Pabi', 'age': '21', 'vehicle': 'Bike'}\n"
     ]
    }
   ],
   "source": [
    "#3. Writing a program to create a dictionary.\n",
    "#creating dictionary\n",
    "dict={\"Name\":\"Pabi\",\"age\":\"21\",\"vehicle\":\"Bike\"}\n",
    "print(dict)"
   ]
  },
  {
   "cell_type": "code",
   "execution_count": 17,
   "id": "c185d677",
   "metadata": {},
   "outputs": [
    {
     "name": "stdout",
     "output_type": "stream",
     "text": [
      "Name\n",
      "age\n",
      "vehicle\n"
     ]
    }
   ],
   "source": [
    "dict={\"Name\":\"Pabi\",\"age\":\"21\",\"vehicle\":\"Bike\"}\n",
    "for x in dict:\n",
    " print(x)"
   ]
  }
 ],
 "metadata": {
  "kernelspec": {
   "display_name": "Python 3 (ipykernel)",
   "language": "python",
   "name": "python3"
  },
  "language_info": {
   "codemirror_mode": {
    "name": "ipython",
    "version": 3
   },
   "file_extension": ".py",
   "mimetype": "text/x-python",
   "name": "python",
   "nbconvert_exporter": "python",
   "pygments_lexer": "ipython3",
   "version": "3.9.13"
  }
 },
 "nbformat": 4,
 "nbformat_minor": 5
}
